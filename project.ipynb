{
 "cells": [
  {
   "cell_type": "markdown",
   "id": "39350d09",
   "metadata": {
    "ExecuteTime": {
     "end_time": "2021-10-03T07:39:14.812971Z",
     "start_time": "2021-10-03T07:39:14.805703Z"
    }
   },
   "source": [
    "# import Libriaries"
   ]
  },
  {
   "cell_type": "code",
   "execution_count": 1,
   "id": "3b6d7b83",
   "metadata": {
    "ExecuteTime": {
     "end_time": "2021-10-03T09:22:13.759408Z",
     "start_time": "2021-10-03T09:22:13.089770Z"
    }
   },
   "outputs": [],
   "source": [
    "import pandas as pd\n",
    "%matplotlib inline\n",
    "import matplotlib.pyplot as plt\n",
    "import numpy as np\n",
    "from datetime import datetime\n"
   ]
  },
  {
   "cell_type": "markdown",
   "id": "543fb855",
   "metadata": {},
   "source": [
    "# Reading the data"
   ]
  },
  {
   "cell_type": "code",
   "execution_count": 2,
   "id": "1e769229",
   "metadata": {
    "ExecuteTime": {
     "end_time": "2021-10-03T09:23:40.722385Z",
     "start_time": "2021-10-03T09:22:13.760820Z"
    }
   },
   "outputs": [],
   "source": [
    "# Source: http://web.mta.info/developers/turnstile.html\n",
    "def get_data_parse_dt(week_nums):\n",
    "    url = \"http://web.mta.info/developers/data/nyct/turnstile/turnstile_{}.txt\"\n",
    "    dfs = []\n",
    "    for week_num in week_nums:\n",
    "        file_url = url.format(week_num)\n",
    "        dfs.append(pd.read_csv(file_url, parse_dates=[['DATE','TIME']],\n",
    "                               keep_date_col=True))\n",
    "    return pd.concat(dfs, ignore_index=True)\n",
    "        \n",
    "week_nums = [211002, 210925, 210918, 210911, 210904,\n",
    "210828, 210821, 210814, 210807, 210731, 210724, 210717]\n",
    "turnstiles_df = get_data_parse_dt(week_nums)"
   ]
  },
  {
   "cell_type": "code",
   "execution_count": 3,
   "id": "09b48457",
   "metadata": {
    "ExecuteTime": {
     "end_time": "2021-10-03T09:23:40.726080Z",
     "start_time": "2021-10-03T09:23:40.724748Z"
    }
   },
   "outputs": [],
   "source": [
    "# # turnstiles_df.to_csv ('turnstiles.csv', index = False, header=True)\n",
    "# date_parser=lambda x: datetime.strptime(turnstiles_df['DATE_TIME'], \"%Y-%d-%m %H:%M:%S\")\n",
    "# turnstiles_df = pd.read_csv('turnstiles.csv',parse_dates =['DATE_TIME'], date_parser=date_parser)\n",
    "# # Clean columns \n"
   ]
  },
  {
   "cell_type": "markdown",
   "id": "53ac4fff",
   "metadata": {},
   "source": []
  },
  {
   "cell_type": "code",
   "execution_count": 12,
   "id": "32cc39f5",
   "metadata": {
    "ExecuteTime": {
     "end_time": "2021-10-03T09:26:05.656039Z",
     "start_time": "2021-10-03T09:26:05.651667Z"
    }
   },
   "outputs": [],
   "source": [
    "turnstiles_df.columns = [x.strip() for x in turnstiles_df.columns]"
   ]
  },
  {
   "cell_type": "code",
   "execution_count": 15,
   "id": "fbee2ed4",
   "metadata": {
    "ExecuteTime": {
     "end_time": "2021-10-03T09:26:09.271559Z",
     "start_time": "2021-10-03T09:26:07.421597Z"
    },
    "code_folding": []
   },
   "outputs": [],
   "source": [
    "# Get rid of the duplicate entry\n",
    "turnstiles_df.sort_values([\"C/A\", \"UNIT\", \"SCP\", \"STATION\", \"DATE_TIME\"], \n",
    "                          inplace=True, ascending=False)\n",
    "turnstiles_df.drop_duplicates(subset=[\"C/A\", \"UNIT\", \"SCP\", \"STATION\", \"DATE_TIME\"], inplace=True)"
   ]
  },
  {
   "cell_type": "code",
   "execution_count": 16,
   "id": "736a1a0b",
   "metadata": {
    "ExecuteTime": {
     "end_time": "2021-10-03T09:26:09.363613Z",
     "start_time": "2021-10-03T09:26:09.273475Z"
    }
   },
   "outputs": [],
   "source": [
    "# Drop Exits and Desc Column.  To prevent errors in multiple run of cell, errors on drop is ignored\n",
    "turnstiles_df = turnstiles_df.drop([\"DESC\"], axis=1, errors=\"ignore\")"
   ]
  },
  {
   "cell_type": "code",
   "execution_count": 18,
   "id": "8e1470ac",
   "metadata": {
    "ExecuteTime": {
     "end_time": "2021-10-03T09:26:11.906472Z",
     "start_time": "2021-10-03T09:26:09.374591Z"
    }
   },
   "outputs": [],
   "source": [
    "turnstiles_daily_entries = (turnstiles_df\n",
    "                        .groupby([\"C/A\", \"UNIT\", \"SCP\", \"STATION\", \"DATE_TIME\"],as_index=False)\n",
    "                        .ENTRIES.first())\n",
    "turnstiles_daily_exits = (turnstiles_df\n",
    "                        .groupby([\"C/A\", \"UNIT\", \"SCP\", \"STATION\", \"DATE_TIME\"],as_index=False)\n",
    "                        .EXITS.first())"
   ]
  },
  {
   "cell_type": "code",
   "execution_count": null,
   "id": "0866bf3f",
   "metadata": {},
   "outputs": [],
   "source": [
    "turnstiles_daily_entries[[\"PREV_DATE\", \"PREV_ENTRIES\"]] = (turnstiles_daily_entries\n",
    "                                                       .groupby([\"C/A\", \"UNIT\", \"SCP\", \"STATION\"])[\"DATE\", \"ENTRIES\"]\n",
    "                                                       .apply(lambda grp: grp.shift(1)))\n",
    "turnstiles_daily_exits[[\"PREV_DATE\", \"PREV_EXITS\"]] = (turnstiles_daily_exits\n",
    "                                                       .groupby([\"C/A\", \"UNIT\", \"SCP\", \"STATION\"])[\"DATE\", \"EXITS\"]\n",
    "                                                       .apply(lambda grp: grp.shift(1)))"
   ]
  },
  {
   "cell_type": "code",
   "execution_count": 83,
   "id": "7d034208",
   "metadata": {
    "ExecuteTime": {
     "end_time": "2021-10-03T10:48:27.202963Z",
     "start_time": "2021-10-03T10:48:27.165835Z"
    }
   },
   "outputs": [
    {
     "ename": "NameError",
     "evalue": "name 'turnstiles_daily' is not defined",
     "output_type": "error",
     "traceback": [
      "\u001b[0;31m---------------------------------------------------------------------------\u001b[0m",
      "\u001b[0;31mNameError\u001b[0m                                 Traceback (most recent call last)",
      "\u001b[0;32m<ipython-input-83-97fdc829ba00>\u001b[0m in \u001b[0;36m<module>\u001b[0;34m\u001b[0m\n\u001b[1;32m     16\u001b[0m \u001b[0;31m# Just set it to zero as different counters have different cycle limits\u001b[0m\u001b[0;34m\u001b[0m\u001b[0;34m\u001b[0m\u001b[0;34m\u001b[0m\u001b[0m\n\u001b[1;32m     17\u001b[0m \u001b[0;31m# It'd probably be a good idea to use a number even significantly smaller than 1 million as the limit!\u001b[0m\u001b[0;34m\u001b[0m\u001b[0;34m\u001b[0m\u001b[0;34m\u001b[0m\u001b[0m\n\u001b[0;32m---> 18\u001b[0;31m \u001b[0mturnstiles_daily\u001b[0m\u001b[0;34m[\u001b[0m\u001b[0;34m\"DAILY_ENTRIES\"\u001b[0m\u001b[0;34m]\u001b[0m \u001b[0;34m=\u001b[0m \u001b[0mturnstiles_daily\u001b[0m\u001b[0;34m.\u001b[0m\u001b[0mapply\u001b[0m\u001b[0;34m(\u001b[0m\u001b[0mget_daily_counts\u001b[0m\u001b[0;34m,\u001b[0m \u001b[0maxis\u001b[0m\u001b[0;34m=\u001b[0m\u001b[0;36m1\u001b[0m\u001b[0;34m,\u001b[0m \u001b[0mmax_counter\u001b[0m\u001b[0;34m=\u001b[0m\u001b[0;36m1000000\u001b[0m\u001b[0;34m)\u001b[0m\u001b[0;34m\u001b[0m\u001b[0;34m\u001b[0m\u001b[0m\n\u001b[0m",
      "\u001b[0;31mNameError\u001b[0m: name 'turnstiles_daily' is not defined"
     ]
    }
   ],
   "source": [
    "def get_daily_counts(row, max_counter):\n",
    "    counter = row[\"ENTRIES\"] - row[\"PREV_ENTRIES\"]\n",
    "    if counter < 0:\n",
    "        # Maybe counter is reversed?\n",
    "        counter = -counter\n",
    "    if counter > max_counter:\n",
    "        # Maybe counter was reset to 0? \n",
    "        print(row[\"ENTRIES\"], row[\"PREV_ENTRIES\"])\n",
    "        counter = min(row[\"ENTRIES\"], row[\"PREV_ENTRIES\"])\n",
    "    if counter > max_counter:\n",
    "        # Check it again to make sure we're not still giving a counter that's too big\n",
    "        return 0\n",
    "    return counter\n",
    "\n",
    "df[\"DAILY_ENTRIES\"] = df.apply(df, axis=1, max_counter=1000000)"
   ]
  },
  {
   "cell_type": "code",
   "execution_count": 19,
   "id": "41e12889",
   "metadata": {
    "ExecuteTime": {
     "end_time": "2021-10-03T09:26:11.926773Z",
     "start_time": "2021-10-03T09:26:11.907558Z"
    }
   },
   "outputs": [],
   "source": [
    "turnstiles_daily_entries['DIFF_ENTRIES'] = (turnstiles_daily_entries\n",
    "                                            .ENTRIES.diff()).fillna(0)\n",
    "turnstiles_daily_exits['DIFF_EXIT'] = (turnstiles_daily_exits.EXITS.diff()).fillna(0)"
   ]
  },
  {
   "cell_type": "code",
   "execution_count": 20,
   "id": "7d199698",
   "metadata": {
    "ExecuteTime": {
     "end_time": "2021-10-03T09:26:11.936959Z",
     "start_time": "2021-10-03T09:26:11.927616Z"
    }
   },
   "outputs": [
    {
     "data": {
      "text/html": [
       "<div>\n",
       "<style scoped>\n",
       "    .dataframe tbody tr th:only-of-type {\n",
       "        vertical-align: middle;\n",
       "    }\n",
       "\n",
       "    .dataframe tbody tr th {\n",
       "        vertical-align: top;\n",
       "    }\n",
       "\n",
       "    .dataframe thead th {\n",
       "        text-align: right;\n",
       "    }\n",
       "</style>\n",
       "<table border=\"1\" class=\"dataframe\">\n",
       "  <thead>\n",
       "    <tr style=\"text-align: right;\">\n",
       "      <th></th>\n",
       "      <th>C/A</th>\n",
       "      <th>UNIT</th>\n",
       "      <th>SCP</th>\n",
       "      <th>STATION</th>\n",
       "      <th>DATE_TIME</th>\n",
       "      <th>ENTRIES</th>\n",
       "      <th>DIFF_ENTRIES</th>\n",
       "    </tr>\n",
       "  </thead>\n",
       "  <tbody>\n",
       "    <tr>\n",
       "      <th>0</th>\n",
       "      <td>A002</td>\n",
       "      <td>R051</td>\n",
       "      <td>02-00-00</td>\n",
       "      <td>59 ST</td>\n",
       "      <td>2021-07-10 00:00:00</td>\n",
       "      <td>7600000</td>\n",
       "      <td>0.0</td>\n",
       "    </tr>\n",
       "    <tr>\n",
       "      <th>1</th>\n",
       "      <td>A002</td>\n",
       "      <td>R051</td>\n",
       "      <td>02-00-00</td>\n",
       "      <td>59 ST</td>\n",
       "      <td>2021-07-10 04:00:00</td>\n",
       "      <td>7600008</td>\n",
       "      <td>8.0</td>\n",
       "    </tr>\n",
       "    <tr>\n",
       "      <th>2</th>\n",
       "      <td>A002</td>\n",
       "      <td>R051</td>\n",
       "      <td>02-00-00</td>\n",
       "      <td>59 ST</td>\n",
       "      <td>2021-07-10 08:00:00</td>\n",
       "      <td>7600014</td>\n",
       "      <td>6.0</td>\n",
       "    </tr>\n",
       "    <tr>\n",
       "      <th>3</th>\n",
       "      <td>A002</td>\n",
       "      <td>R051</td>\n",
       "      <td>02-00-00</td>\n",
       "      <td>59 ST</td>\n",
       "      <td>2021-07-10 12:00:00</td>\n",
       "      <td>7600061</td>\n",
       "      <td>47.0</td>\n",
       "    </tr>\n",
       "    <tr>\n",
       "      <th>4</th>\n",
       "      <td>A002</td>\n",
       "      <td>R051</td>\n",
       "      <td>02-00-00</td>\n",
       "      <td>59 ST</td>\n",
       "      <td>2021-07-10 16:00:00</td>\n",
       "      <td>7600150</td>\n",
       "      <td>89.0</td>\n",
       "    </tr>\n",
       "    <tr>\n",
       "      <th>...</th>\n",
       "      <td>...</td>\n",
       "      <td>...</td>\n",
       "      <td>...</td>\n",
       "      <td>...</td>\n",
       "      <td>...</td>\n",
       "      <td>...</td>\n",
       "      <td>...</td>\n",
       "    </tr>\n",
       "    <tr>\n",
       "      <th>2514959</th>\n",
       "      <td>TRAM2</td>\n",
       "      <td>R469</td>\n",
       "      <td>00-05-01</td>\n",
       "      <td>RIT-ROOSEVELT</td>\n",
       "      <td>2021-10-01 05:00:00</td>\n",
       "      <td>5554</td>\n",
       "      <td>0.0</td>\n",
       "    </tr>\n",
       "    <tr>\n",
       "      <th>2514960</th>\n",
       "      <td>TRAM2</td>\n",
       "      <td>R469</td>\n",
       "      <td>00-05-01</td>\n",
       "      <td>RIT-ROOSEVELT</td>\n",
       "      <td>2021-10-01 09:00:00</td>\n",
       "      <td>5554</td>\n",
       "      <td>0.0</td>\n",
       "    </tr>\n",
       "    <tr>\n",
       "      <th>2514961</th>\n",
       "      <td>TRAM2</td>\n",
       "      <td>R469</td>\n",
       "      <td>00-05-01</td>\n",
       "      <td>RIT-ROOSEVELT</td>\n",
       "      <td>2021-10-01 13:00:00</td>\n",
       "      <td>5554</td>\n",
       "      <td>0.0</td>\n",
       "    </tr>\n",
       "    <tr>\n",
       "      <th>2514962</th>\n",
       "      <td>TRAM2</td>\n",
       "      <td>R469</td>\n",
       "      <td>00-05-01</td>\n",
       "      <td>RIT-ROOSEVELT</td>\n",
       "      <td>2021-10-01 17:00:00</td>\n",
       "      <td>5554</td>\n",
       "      <td>0.0</td>\n",
       "    </tr>\n",
       "    <tr>\n",
       "      <th>2514963</th>\n",
       "      <td>TRAM2</td>\n",
       "      <td>R469</td>\n",
       "      <td>00-05-01</td>\n",
       "      <td>RIT-ROOSEVELT</td>\n",
       "      <td>2021-10-01 21:00:00</td>\n",
       "      <td>5554</td>\n",
       "      <td>0.0</td>\n",
       "    </tr>\n",
       "  </tbody>\n",
       "</table>\n",
       "<p>2514964 rows × 7 columns</p>\n",
       "</div>"
      ],
      "text/plain": [
       "           C/A  UNIT       SCP        STATION           DATE_TIME  ENTRIES  \\\n",
       "0         A002  R051  02-00-00          59 ST 2021-07-10 00:00:00  7600000   \n",
       "1         A002  R051  02-00-00          59 ST 2021-07-10 04:00:00  7600008   \n",
       "2         A002  R051  02-00-00          59 ST 2021-07-10 08:00:00  7600014   \n",
       "3         A002  R051  02-00-00          59 ST 2021-07-10 12:00:00  7600061   \n",
       "4         A002  R051  02-00-00          59 ST 2021-07-10 16:00:00  7600150   \n",
       "...        ...   ...       ...            ...                 ...      ...   \n",
       "2514959  TRAM2  R469  00-05-01  RIT-ROOSEVELT 2021-10-01 05:00:00     5554   \n",
       "2514960  TRAM2  R469  00-05-01  RIT-ROOSEVELT 2021-10-01 09:00:00     5554   \n",
       "2514961  TRAM2  R469  00-05-01  RIT-ROOSEVELT 2021-10-01 13:00:00     5554   \n",
       "2514962  TRAM2  R469  00-05-01  RIT-ROOSEVELT 2021-10-01 17:00:00     5554   \n",
       "2514963  TRAM2  R469  00-05-01  RIT-ROOSEVELT 2021-10-01 21:00:00     5554   \n",
       "\n",
       "         DIFF_ENTRIES  \n",
       "0                 0.0  \n",
       "1                 8.0  \n",
       "2                 6.0  \n",
       "3                47.0  \n",
       "4                89.0  \n",
       "...               ...  \n",
       "2514959           0.0  \n",
       "2514960           0.0  \n",
       "2514961           0.0  \n",
       "2514962           0.0  \n",
       "2514963           0.0  \n",
       "\n",
       "[2514964 rows x 7 columns]"
      ]
     },
     "execution_count": 20,
     "metadata": {},
     "output_type": "execute_result"
    }
   ],
   "source": [
    "turnstiles_daily_entries"
   ]
  },
  {
   "cell_type": "code",
   "execution_count": 21,
   "id": "90be92c6",
   "metadata": {
    "ExecuteTime": {
     "end_time": "2021-10-03T09:26:11.948754Z",
     "start_time": "2021-10-03T09:26:11.939915Z"
    }
   },
   "outputs": [
    {
     "data": {
      "text/html": [
       "<div>\n",
       "<style scoped>\n",
       "    .dataframe tbody tr th:only-of-type {\n",
       "        vertical-align: middle;\n",
       "    }\n",
       "\n",
       "    .dataframe tbody tr th {\n",
       "        vertical-align: top;\n",
       "    }\n",
       "\n",
       "    .dataframe thead th {\n",
       "        text-align: right;\n",
       "    }\n",
       "</style>\n",
       "<table border=\"1\" class=\"dataframe\">\n",
       "  <thead>\n",
       "    <tr style=\"text-align: right;\">\n",
       "      <th></th>\n",
       "      <th>C/A</th>\n",
       "      <th>UNIT</th>\n",
       "      <th>SCP</th>\n",
       "      <th>STATION</th>\n",
       "      <th>DATE_TIME</th>\n",
       "      <th>EXITS</th>\n",
       "      <th>DIFF_EXIT</th>\n",
       "    </tr>\n",
       "  </thead>\n",
       "  <tbody>\n",
       "    <tr>\n",
       "      <th>0</th>\n",
       "      <td>A002</td>\n",
       "      <td>R051</td>\n",
       "      <td>02-00-00</td>\n",
       "      <td>59 ST</td>\n",
       "      <td>2021-07-10 00:00:00</td>\n",
       "      <td>2598659</td>\n",
       "      <td>0.0</td>\n",
       "    </tr>\n",
       "    <tr>\n",
       "      <th>1</th>\n",
       "      <td>A002</td>\n",
       "      <td>R051</td>\n",
       "      <td>02-00-00</td>\n",
       "      <td>59 ST</td>\n",
       "      <td>2021-07-10 04:00:00</td>\n",
       "      <td>2598664</td>\n",
       "      <td>5.0</td>\n",
       "    </tr>\n",
       "    <tr>\n",
       "      <th>2</th>\n",
       "      <td>A002</td>\n",
       "      <td>R051</td>\n",
       "      <td>02-00-00</td>\n",
       "      <td>59 ST</td>\n",
       "      <td>2021-07-10 08:00:00</td>\n",
       "      <td>2598679</td>\n",
       "      <td>15.0</td>\n",
       "    </tr>\n",
       "    <tr>\n",
       "      <th>3</th>\n",
       "      <td>A002</td>\n",
       "      <td>R051</td>\n",
       "      <td>02-00-00</td>\n",
       "      <td>59 ST</td>\n",
       "      <td>2021-07-10 12:00:00</td>\n",
       "      <td>2598732</td>\n",
       "      <td>53.0</td>\n",
       "    </tr>\n",
       "    <tr>\n",
       "      <th>4</th>\n",
       "      <td>A002</td>\n",
       "      <td>R051</td>\n",
       "      <td>02-00-00</td>\n",
       "      <td>59 ST</td>\n",
       "      <td>2021-07-10 16:00:00</td>\n",
       "      <td>2598761</td>\n",
       "      <td>29.0</td>\n",
       "    </tr>\n",
       "    <tr>\n",
       "      <th>...</th>\n",
       "      <td>...</td>\n",
       "      <td>...</td>\n",
       "      <td>...</td>\n",
       "      <td>...</td>\n",
       "      <td>...</td>\n",
       "      <td>...</td>\n",
       "      <td>...</td>\n",
       "    </tr>\n",
       "    <tr>\n",
       "      <th>2514959</th>\n",
       "      <td>TRAM2</td>\n",
       "      <td>R469</td>\n",
       "      <td>00-05-01</td>\n",
       "      <td>RIT-ROOSEVELT</td>\n",
       "      <td>2021-10-01 05:00:00</td>\n",
       "      <td>649</td>\n",
       "      <td>0.0</td>\n",
       "    </tr>\n",
       "    <tr>\n",
       "      <th>2514960</th>\n",
       "      <td>TRAM2</td>\n",
       "      <td>R469</td>\n",
       "      <td>00-05-01</td>\n",
       "      <td>RIT-ROOSEVELT</td>\n",
       "      <td>2021-10-01 09:00:00</td>\n",
       "      <td>649</td>\n",
       "      <td>0.0</td>\n",
       "    </tr>\n",
       "    <tr>\n",
       "      <th>2514961</th>\n",
       "      <td>TRAM2</td>\n",
       "      <td>R469</td>\n",
       "      <td>00-05-01</td>\n",
       "      <td>RIT-ROOSEVELT</td>\n",
       "      <td>2021-10-01 13:00:00</td>\n",
       "      <td>649</td>\n",
       "      <td>0.0</td>\n",
       "    </tr>\n",
       "    <tr>\n",
       "      <th>2514962</th>\n",
       "      <td>TRAM2</td>\n",
       "      <td>R469</td>\n",
       "      <td>00-05-01</td>\n",
       "      <td>RIT-ROOSEVELT</td>\n",
       "      <td>2021-10-01 17:00:00</td>\n",
       "      <td>649</td>\n",
       "      <td>0.0</td>\n",
       "    </tr>\n",
       "    <tr>\n",
       "      <th>2514963</th>\n",
       "      <td>TRAM2</td>\n",
       "      <td>R469</td>\n",
       "      <td>00-05-01</td>\n",
       "      <td>RIT-ROOSEVELT</td>\n",
       "      <td>2021-10-01 21:00:00</td>\n",
       "      <td>650</td>\n",
       "      <td>1.0</td>\n",
       "    </tr>\n",
       "  </tbody>\n",
       "</table>\n",
       "<p>2514964 rows × 7 columns</p>\n",
       "</div>"
      ],
      "text/plain": [
       "           C/A  UNIT       SCP        STATION           DATE_TIME    EXITS  \\\n",
       "0         A002  R051  02-00-00          59 ST 2021-07-10 00:00:00  2598659   \n",
       "1         A002  R051  02-00-00          59 ST 2021-07-10 04:00:00  2598664   \n",
       "2         A002  R051  02-00-00          59 ST 2021-07-10 08:00:00  2598679   \n",
       "3         A002  R051  02-00-00          59 ST 2021-07-10 12:00:00  2598732   \n",
       "4         A002  R051  02-00-00          59 ST 2021-07-10 16:00:00  2598761   \n",
       "...        ...   ...       ...            ...                 ...      ...   \n",
       "2514959  TRAM2  R469  00-05-01  RIT-ROOSEVELT 2021-10-01 05:00:00      649   \n",
       "2514960  TRAM2  R469  00-05-01  RIT-ROOSEVELT 2021-10-01 09:00:00      649   \n",
       "2514961  TRAM2  R469  00-05-01  RIT-ROOSEVELT 2021-10-01 13:00:00      649   \n",
       "2514962  TRAM2  R469  00-05-01  RIT-ROOSEVELT 2021-10-01 17:00:00      649   \n",
       "2514963  TRAM2  R469  00-05-01  RIT-ROOSEVELT 2021-10-01 21:00:00      650   \n",
       "\n",
       "         DIFF_EXIT  \n",
       "0              0.0  \n",
       "1              5.0  \n",
       "2             15.0  \n",
       "3             53.0  \n",
       "4             29.0  \n",
       "...            ...  \n",
       "2514959        0.0  \n",
       "2514960        0.0  \n",
       "2514961        0.0  \n",
       "2514962        0.0  \n",
       "2514963        1.0  \n",
       "\n",
       "[2514964 rows x 7 columns]"
      ]
     },
     "execution_count": 21,
     "metadata": {},
     "output_type": "execute_result"
    }
   ],
   "source": [
    "turnstiles_daily_exits"
   ]
  },
  {
   "cell_type": "code",
   "execution_count": 75,
   "id": "bdabf6dd",
   "metadata": {
    "ExecuteTime": {
     "end_time": "2021-10-03T10:23:16.564789Z",
     "start_time": "2021-10-03T10:23:14.821605Z"
    },
    "scrolled": false
   },
   "outputs": [],
   "source": [
    "df = turnstiles_daily_entries.merge(turnstiles_daily_exits,\n",
    "                                   how = 'inner',\n",
    "                                   on=[\"C/A\", \"UNIT\", \"SCP\", \"STATION\", \"DATE_TIME\"])"
   ]
  },
  {
   "cell_type": "code",
   "execution_count": 82,
   "id": "6366a1fc",
   "metadata": {
    "ExecuteTime": {
     "end_time": "2021-10-03T10:32:39.899962Z",
     "start_time": "2021-10-03T10:32:39.877435Z"
    }
   },
   "outputs": [
    {
     "data": {
      "text/plain": [
       "2146984416.0"
      ]
     },
     "execution_count": 82,
     "metadata": {},
     "output_type": "execute_result"
    }
   ],
   "source": [
    "df.DIFF_ENTRIES.max()"
   ]
  },
  {
   "cell_type": "code",
   "execution_count": 77,
   "id": "4a25a4af",
   "metadata": {
    "ExecuteTime": {
     "end_time": "2021-10-03T10:23:17.052579Z",
     "start_time": "2021-10-03T10:23:16.580679Z"
    }
   },
   "outputs": [],
   "source": [
    "msk1 = (\n",
    "(df['C/A'] == 'A002') &\n",
    "(df['UNIT'] == 'R051') &\n",
    "(df['SCP'] == '02-00-00') &\n",
    "(df['STATION'] == '59 ST') \n",
    ")"
   ]
  },
  {
   "cell_type": "code",
   "execution_count": 80,
   "id": "ef81a5ee",
   "metadata": {
    "ExecuteTime": {
     "end_time": "2021-10-03T10:23:28.848279Z",
     "start_time": "2021-10-03T10:23:28.836103Z"
    }
   },
   "outputs": [
    {
     "data": {
      "text/plain": [
       "2133796536"
      ]
     },
     "execution_count": 80,
     "metadata": {},
     "output_type": "execute_result"
    }
   ],
   "source": [
    "df['EXITS'].max()"
   ]
  },
  {
   "cell_type": "code",
   "execution_count": 72,
   "id": "5d5d285d",
   "metadata": {
    "ExecuteTime": {
     "end_time": "2021-10-03T10:16:38.584489Z",
     "start_time": "2021-10-03T10:16:38.429193Z"
    }
   },
   "outputs": [
    {
     "name": "stderr",
     "output_type": "stream",
     "text": [
      "<ipython-input-72-148bb3c1ca70>:1: FutureWarning: weekofyear and week have been deprecated, please use DatetimeIndex.isocalendar().week instead, which returns a Series.  To exactly reproduce the behavior of week and weekofyear and return an Index, you may call pd.Int64Index(idx.isocalendar().week)\n",
      "  df['WEEK'] = pd.DatetimeIndex(df['DATE_TIME']).week\n"
     ]
    },
    {
     "data": {
      "text/html": [
       "<div>\n",
       "<style scoped>\n",
       "    .dataframe tbody tr th:only-of-type {\n",
       "        vertical-align: middle;\n",
       "    }\n",
       "\n",
       "    .dataframe tbody tr th {\n",
       "        vertical-align: top;\n",
       "    }\n",
       "\n",
       "    .dataframe thead th {\n",
       "        text-align: right;\n",
       "    }\n",
       "</style>\n",
       "<table border=\"1\" class=\"dataframe\">\n",
       "  <thead>\n",
       "    <tr style=\"text-align: right;\">\n",
       "      <th></th>\n",
       "      <th>C/A</th>\n",
       "      <th>UNIT</th>\n",
       "      <th>SCP</th>\n",
       "      <th>STATION</th>\n",
       "      <th>DATE_TIME</th>\n",
       "      <th>ENTRIES</th>\n",
       "      <th>DIFF_ENTRIES</th>\n",
       "      <th>EXITS</th>\n",
       "      <th>DIFF_EXIT</th>\n",
       "      <th>WEEK</th>\n",
       "    </tr>\n",
       "  </thead>\n",
       "  <tbody>\n",
       "    <tr>\n",
       "      <th>0</th>\n",
       "      <td>A002</td>\n",
       "      <td>R051</td>\n",
       "      <td>02-00-00</td>\n",
       "      <td>59 ST</td>\n",
       "      <td>2021-07-10 00:00:00</td>\n",
       "      <td>7600000</td>\n",
       "      <td>0.0</td>\n",
       "      <td>2598659</td>\n",
       "      <td>0.0</td>\n",
       "      <td>27</td>\n",
       "    </tr>\n",
       "    <tr>\n",
       "      <th>1</th>\n",
       "      <td>A002</td>\n",
       "      <td>R051</td>\n",
       "      <td>02-00-00</td>\n",
       "      <td>59 ST</td>\n",
       "      <td>2021-07-10 04:00:00</td>\n",
       "      <td>7600008</td>\n",
       "      <td>8.0</td>\n",
       "      <td>2598664</td>\n",
       "      <td>5.0</td>\n",
       "      <td>27</td>\n",
       "    </tr>\n",
       "    <tr>\n",
       "      <th>2</th>\n",
       "      <td>A002</td>\n",
       "      <td>R051</td>\n",
       "      <td>02-00-00</td>\n",
       "      <td>59 ST</td>\n",
       "      <td>2021-07-10 08:00:00</td>\n",
       "      <td>7600014</td>\n",
       "      <td>6.0</td>\n",
       "      <td>2598679</td>\n",
       "      <td>15.0</td>\n",
       "      <td>27</td>\n",
       "    </tr>\n",
       "    <tr>\n",
       "      <th>3</th>\n",
       "      <td>A002</td>\n",
       "      <td>R051</td>\n",
       "      <td>02-00-00</td>\n",
       "      <td>59 ST</td>\n",
       "      <td>2021-07-10 12:00:00</td>\n",
       "      <td>7600061</td>\n",
       "      <td>47.0</td>\n",
       "      <td>2598732</td>\n",
       "      <td>53.0</td>\n",
       "      <td>27</td>\n",
       "    </tr>\n",
       "    <tr>\n",
       "      <th>4</th>\n",
       "      <td>A002</td>\n",
       "      <td>R051</td>\n",
       "      <td>02-00-00</td>\n",
       "      <td>59 ST</td>\n",
       "      <td>2021-07-10 16:00:00</td>\n",
       "      <td>7600150</td>\n",
       "      <td>89.0</td>\n",
       "      <td>2598761</td>\n",
       "      <td>29.0</td>\n",
       "      <td>27</td>\n",
       "    </tr>\n",
       "    <tr>\n",
       "      <th>...</th>\n",
       "      <td>...</td>\n",
       "      <td>...</td>\n",
       "      <td>...</td>\n",
       "      <td>...</td>\n",
       "      <td>...</td>\n",
       "      <td>...</td>\n",
       "      <td>...</td>\n",
       "      <td>...</td>\n",
       "      <td>...</td>\n",
       "      <td>...</td>\n",
       "    </tr>\n",
       "    <tr>\n",
       "      <th>2514959</th>\n",
       "      <td>TRAM2</td>\n",
       "      <td>R469</td>\n",
       "      <td>00-05-01</td>\n",
       "      <td>RIT-ROOSEVELT</td>\n",
       "      <td>2021-10-01 05:00:00</td>\n",
       "      <td>5554</td>\n",
       "      <td>0.0</td>\n",
       "      <td>649</td>\n",
       "      <td>0.0</td>\n",
       "      <td>39</td>\n",
       "    </tr>\n",
       "    <tr>\n",
       "      <th>2514960</th>\n",
       "      <td>TRAM2</td>\n",
       "      <td>R469</td>\n",
       "      <td>00-05-01</td>\n",
       "      <td>RIT-ROOSEVELT</td>\n",
       "      <td>2021-10-01 09:00:00</td>\n",
       "      <td>5554</td>\n",
       "      <td>0.0</td>\n",
       "      <td>649</td>\n",
       "      <td>0.0</td>\n",
       "      <td>39</td>\n",
       "    </tr>\n",
       "    <tr>\n",
       "      <th>2514961</th>\n",
       "      <td>TRAM2</td>\n",
       "      <td>R469</td>\n",
       "      <td>00-05-01</td>\n",
       "      <td>RIT-ROOSEVELT</td>\n",
       "      <td>2021-10-01 13:00:00</td>\n",
       "      <td>5554</td>\n",
       "      <td>0.0</td>\n",
       "      <td>649</td>\n",
       "      <td>0.0</td>\n",
       "      <td>39</td>\n",
       "    </tr>\n",
       "    <tr>\n",
       "      <th>2514962</th>\n",
       "      <td>TRAM2</td>\n",
       "      <td>R469</td>\n",
       "      <td>00-05-01</td>\n",
       "      <td>RIT-ROOSEVELT</td>\n",
       "      <td>2021-10-01 17:00:00</td>\n",
       "      <td>5554</td>\n",
       "      <td>0.0</td>\n",
       "      <td>649</td>\n",
       "      <td>0.0</td>\n",
       "      <td>39</td>\n",
       "    </tr>\n",
       "    <tr>\n",
       "      <th>2514963</th>\n",
       "      <td>TRAM2</td>\n",
       "      <td>R469</td>\n",
       "      <td>00-05-01</td>\n",
       "      <td>RIT-ROOSEVELT</td>\n",
       "      <td>2021-10-01 21:00:00</td>\n",
       "      <td>5554</td>\n",
       "      <td>0.0</td>\n",
       "      <td>650</td>\n",
       "      <td>1.0</td>\n",
       "      <td>39</td>\n",
       "    </tr>\n",
       "  </tbody>\n",
       "</table>\n",
       "<p>2514964 rows × 10 columns</p>\n",
       "</div>"
      ],
      "text/plain": [
       "           C/A  UNIT       SCP        STATION           DATE_TIME  ENTRIES  \\\n",
       "0         A002  R051  02-00-00          59 ST 2021-07-10 00:00:00  7600000   \n",
       "1         A002  R051  02-00-00          59 ST 2021-07-10 04:00:00  7600008   \n",
       "2         A002  R051  02-00-00          59 ST 2021-07-10 08:00:00  7600014   \n",
       "3         A002  R051  02-00-00          59 ST 2021-07-10 12:00:00  7600061   \n",
       "4         A002  R051  02-00-00          59 ST 2021-07-10 16:00:00  7600150   \n",
       "...        ...   ...       ...            ...                 ...      ...   \n",
       "2514959  TRAM2  R469  00-05-01  RIT-ROOSEVELT 2021-10-01 05:00:00     5554   \n",
       "2514960  TRAM2  R469  00-05-01  RIT-ROOSEVELT 2021-10-01 09:00:00     5554   \n",
       "2514961  TRAM2  R469  00-05-01  RIT-ROOSEVELT 2021-10-01 13:00:00     5554   \n",
       "2514962  TRAM2  R469  00-05-01  RIT-ROOSEVELT 2021-10-01 17:00:00     5554   \n",
       "2514963  TRAM2  R469  00-05-01  RIT-ROOSEVELT 2021-10-01 21:00:00     5554   \n",
       "\n",
       "         DIFF_ENTRIES    EXITS  DIFF_EXIT  WEEK  \n",
       "0                 0.0  2598659        0.0    27  \n",
       "1                 8.0  2598664        5.0    27  \n",
       "2                 6.0  2598679       15.0    27  \n",
       "3                47.0  2598732       53.0    27  \n",
       "4                89.0  2598761       29.0    27  \n",
       "...               ...      ...        ...   ...  \n",
       "2514959           0.0      649        0.0    39  \n",
       "2514960           0.0      649        0.0    39  \n",
       "2514961           0.0      649        0.0    39  \n",
       "2514962           0.0      649        0.0    39  \n",
       "2514963           0.0      650        1.0    39  \n",
       "\n",
       "[2514964 rows x 10 columns]"
      ]
     },
     "execution_count": 72,
     "metadata": {},
     "output_type": "execute_result"
    }
   ],
   "source": [
    "df['WEEK'] = pd.DatetimeIndex(df['DATE_TIME']).week\n",
    "df"
   ]
  },
  {
   "cell_type": "code",
   "execution_count": 74,
   "id": "3337a9b6",
   "metadata": {
    "ExecuteTime": {
     "end_time": "2021-10-03T10:18:58.881053Z",
     "start_time": "2021-10-03T10:18:58.693018Z"
    }
   },
   "outputs": [
    {
     "data": {
      "text/html": [
       "<div>\n",
       "<style scoped>\n",
       "    .dataframe tbody tr th:only-of-type {\n",
       "        vertical-align: middle;\n",
       "    }\n",
       "\n",
       "    .dataframe tbody tr th {\n",
       "        vertical-align: top;\n",
       "    }\n",
       "\n",
       "    .dataframe thead th {\n",
       "        text-align: right;\n",
       "    }\n",
       "</style>\n",
       "<table border=\"1\" class=\"dataframe\">\n",
       "  <thead>\n",
       "    <tr style=\"text-align: right;\">\n",
       "      <th></th>\n",
       "      <th>ENTRIES</th>\n",
       "      <th>DIFF_ENTRIES</th>\n",
       "      <th>EXITS</th>\n",
       "      <th>DIFF_EXIT</th>\n",
       "    </tr>\n",
       "    <tr>\n",
       "      <th>WEEK</th>\n",
       "      <th></th>\n",
       "      <th></th>\n",
       "      <th></th>\n",
       "      <th></th>\n",
       "    </tr>\n",
       "  </thead>\n",
       "  <tbody>\n",
       "    <tr>\n",
       "      <th>27</th>\n",
       "      <td>2486678787463</td>\n",
       "      <td>1.418180e+09</td>\n",
       "      <td>1980375576973</td>\n",
       "      <td>-2.055838e+09</td>\n",
       "    </tr>\n",
       "    <tr>\n",
       "      <th>28</th>\n",
       "      <td>8723603604854</td>\n",
       "      <td>-1.525327e+08</td>\n",
       "      <td>6945014977919</td>\n",
       "      <td>7.954301e+06</td>\n",
       "    </tr>\n",
       "    <tr>\n",
       "      <th>29</th>\n",
       "      <td>8696453187299</td>\n",
       "      <td>-1.861969e+07</td>\n",
       "      <td>6955147255447</td>\n",
       "      <td>4.821471e+06</td>\n",
       "    </tr>\n",
       "    <tr>\n",
       "      <th>30</th>\n",
       "      <td>8668831193962</td>\n",
       "      <td>-9.280473e+07</td>\n",
       "      <td>6935971887715</td>\n",
       "      <td>1.069667e+07</td>\n",
       "    </tr>\n",
       "    <tr>\n",
       "      <th>31</th>\n",
       "      <td>8728450661760</td>\n",
       "      <td>-1.280450e+07</td>\n",
       "      <td>6948517110126</td>\n",
       "      <td>7.212500e+05</td>\n",
       "    </tr>\n",
       "    <tr>\n",
       "      <th>32</th>\n",
       "      <td>8623907833316</td>\n",
       "      <td>-2.085180e+09</td>\n",
       "      <td>6878962109478</td>\n",
       "      <td>-1.501422e+09</td>\n",
       "    </tr>\n",
       "    <tr>\n",
       "      <th>33</th>\n",
       "      <td>8638094945957</td>\n",
       "      <td>-2.120346e+07</td>\n",
       "      <td>6895246094936</td>\n",
       "      <td>-2.111378e+07</td>\n",
       "    </tr>\n",
       "    <tr>\n",
       "      <th>34</th>\n",
       "      <td>8595945411319</td>\n",
       "      <td>1.805415e+08</td>\n",
       "      <td>6897814193429</td>\n",
       "      <td>8.490941e+08</td>\n",
       "    </tr>\n",
       "    <tr>\n",
       "      <th>35</th>\n",
       "      <td>8626311539541</td>\n",
       "      <td>-9.994605e+06</td>\n",
       "      <td>6921861043133</td>\n",
       "      <td>-2.143714e+06</td>\n",
       "    </tr>\n",
       "    <tr>\n",
       "      <th>36</th>\n",
       "      <td>8668215464698</td>\n",
       "      <td>-7.981357e+08</td>\n",
       "      <td>6952382056041</td>\n",
       "      <td>-6.222822e+08</td>\n",
       "    </tr>\n",
       "    <tr>\n",
       "      <th>37</th>\n",
       "      <td>8659515161695</td>\n",
       "      <td>9.388146e+08</td>\n",
       "      <td>6962961678299</td>\n",
       "      <td>1.851896e+09</td>\n",
       "    </tr>\n",
       "    <tr>\n",
       "      <th>38</th>\n",
       "      <td>8759208721552</td>\n",
       "      <td>6.353086e+08</td>\n",
       "      <td>7097993556698</td>\n",
       "      <td>1.465369e+09</td>\n",
       "    </tr>\n",
       "    <tr>\n",
       "      <th>39</th>\n",
       "      <td>6209397463539</td>\n",
       "      <td>1.083634e+07</td>\n",
       "      <td>5045472224664</td>\n",
       "      <td>9.650039e+06</td>\n",
       "    </tr>\n",
       "  </tbody>\n",
       "</table>\n",
       "</div>"
      ],
      "text/plain": [
       "            ENTRIES  DIFF_ENTRIES          EXITS     DIFF_EXIT\n",
       "WEEK                                                          \n",
       "27    2486678787463  1.418180e+09  1980375576973 -2.055838e+09\n",
       "28    8723603604854 -1.525327e+08  6945014977919  7.954301e+06\n",
       "29    8696453187299 -1.861969e+07  6955147255447  4.821471e+06\n",
       "30    8668831193962 -9.280473e+07  6935971887715  1.069667e+07\n",
       "31    8728450661760 -1.280450e+07  6948517110126  7.212500e+05\n",
       "32    8623907833316 -2.085180e+09  6878962109478 -1.501422e+09\n",
       "33    8638094945957 -2.120346e+07  6895246094936 -2.111378e+07\n",
       "34    8595945411319  1.805415e+08  6897814193429  8.490941e+08\n",
       "35    8626311539541 -9.994605e+06  6921861043133 -2.143714e+06\n",
       "36    8668215464698 -7.981357e+08  6952382056041 -6.222822e+08\n",
       "37    8659515161695  9.388146e+08  6962961678299  1.851896e+09\n",
       "38    8759208721552  6.353086e+08  7097993556698  1.465369e+09\n",
       "39    6209397463539  1.083634e+07  5045472224664  9.650039e+06"
      ]
     },
     "execution_count": 74,
     "metadata": {},
     "output_type": "execute_result"
    }
   ],
   "source": [
    "x = df.groupby(df['WEEK']).sum()\n",
    "x"
   ]
  },
  {
   "cell_type": "code",
   "execution_count": 65,
   "id": "00443f65",
   "metadata": {
    "ExecuteTime": {
     "end_time": "2021-10-03T10:08:49.010903Z",
     "start_time": "2021-10-03T10:08:48.990799Z"
    }
   },
   "outputs": [
    {
     "name": "stdout",
     "output_type": "stream",
     "text": [
      "<class 'pandas.core.frame.DataFrame'>\n",
      "Int64Index: 2514964 entries, 0 to 2514963\n",
      "Data columns (total 9 columns):\n",
      " #   Column        Dtype         \n",
      "---  ------        -----         \n",
      " 0   C/A           object        \n",
      " 1   UNIT          object        \n",
      " 2   SCP           object        \n",
      " 3   STATION       object        \n",
      " 4   DATE_TIME     datetime64[ns]\n",
      " 5   ENTRIES       int64         \n",
      " 6   DIFF_ENTRIES  float64       \n",
      " 7   EXITS         int64         \n",
      " 8   DIFF_EXIT     float64       \n",
      "dtypes: datetime64[ns](1), float64(2), int64(2), object(4)\n",
      "memory usage: 191.9+ MB\n"
     ]
    }
   ],
   "source": [
    "df.info()"
   ]
  },
  {
   "cell_type": "code",
   "execution_count": 61,
   "id": "7275b975",
   "metadata": {
    "ExecuteTime": {
     "end_time": "2021-10-03T10:05:46.462265Z",
     "start_time": "2021-10-03T10:05:46.368379Z"
    }
   },
   "outputs": [
    {
     "name": "stdout",
     "output_type": "stream",
     "text": [
      "<class 'pandas.core.frame.DataFrame'>\n",
      "DatetimeIndex: 504 entries, 2021-07-10 00:00:00 to 2021-10-01 20:00:00\n",
      "Data columns (total 4 columns):\n",
      " #   Column        Non-Null Count  Dtype  \n",
      "---  ------        --------------  -----  \n",
      " 0   ENTRIES       504 non-null    int64  \n",
      " 1   DIFF_ENTRIES  504 non-null    float64\n",
      " 2   EXITS         504 non-null    int64  \n",
      " 3   DIFF_EXIT     504 non-null    float64\n",
      "dtypes: float64(2), int64(2)\n",
      "memory usage: 19.7 KB\n"
     ]
    }
   ],
   "source": [
    "x = df.groupby(df[msk1]['DATE_TIME']).sum()\n",
    "\n",
    "x.info()"
   ]
  },
  {
   "cell_type": "code",
   "execution_count": 63,
   "id": "0a781506",
   "metadata": {
    "ExecuteTime": {
     "end_time": "2021-10-03T10:07:35.999572Z",
     "start_time": "2021-10-03T10:07:35.977317Z"
    }
   },
   "outputs": [
    {
     "ename": "TypeError",
     "evalue": "unsupported Type DatetimeIndex",
     "output_type": "error",
     "traceback": [
      "\u001b[0;31m---------------------------------------------------------------------------\u001b[0m",
      "\u001b[0;31mTypeError\u001b[0m                                 Traceback (most recent call last)",
      "\u001b[0;32m<ipython-input-63-0cd4e8c8929a>\u001b[0m in \u001b[0;36m<module>\u001b[0;34m\u001b[0m\n\u001b[0;32m----> 1\u001b[0;31m \u001b[0mx\u001b[0m\u001b[0;34m.\u001b[0m\u001b[0mto_timestamp\u001b[0m\u001b[0;34m(\u001b[0m\u001b[0;34m)\u001b[0m\u001b[0;34m\u001b[0m\u001b[0;34m\u001b[0m\u001b[0m\n\u001b[0m",
      "\u001b[0;32m~/opt/anaconda3/lib/python3.8/site-packages/pandas/core/frame.py\u001b[0m in \u001b[0;36mto_timestamp\u001b[0;34m(self, freq, how, axis, copy)\u001b[0m\n\u001b[1;32m   9305\u001b[0m         \u001b[0mold_ax\u001b[0m \u001b[0;34m=\u001b[0m \u001b[0mgetattr\u001b[0m\u001b[0;34m(\u001b[0m\u001b[0mself\u001b[0m\u001b[0;34m,\u001b[0m \u001b[0maxis_name\u001b[0m\u001b[0;34m)\u001b[0m\u001b[0;34m\u001b[0m\u001b[0;34m\u001b[0m\u001b[0m\n\u001b[1;32m   9306\u001b[0m         \u001b[0;32mif\u001b[0m \u001b[0;32mnot\u001b[0m \u001b[0misinstance\u001b[0m\u001b[0;34m(\u001b[0m\u001b[0mold_ax\u001b[0m\u001b[0;34m,\u001b[0m \u001b[0mPeriodIndex\u001b[0m\u001b[0;34m)\u001b[0m\u001b[0;34m:\u001b[0m\u001b[0;34m\u001b[0m\u001b[0;34m\u001b[0m\u001b[0m\n\u001b[0;32m-> 9307\u001b[0;31m             \u001b[0;32mraise\u001b[0m \u001b[0mTypeError\u001b[0m\u001b[0;34m(\u001b[0m\u001b[0;34mf\"unsupported Type {type(old_ax).__name__}\"\u001b[0m\u001b[0;34m)\u001b[0m\u001b[0;34m\u001b[0m\u001b[0;34m\u001b[0m\u001b[0m\n\u001b[0m\u001b[1;32m   9308\u001b[0m \u001b[0;34m\u001b[0m\u001b[0m\n\u001b[1;32m   9309\u001b[0m         \u001b[0mnew_ax\u001b[0m \u001b[0;34m=\u001b[0m \u001b[0mold_ax\u001b[0m\u001b[0;34m.\u001b[0m\u001b[0mto_timestamp\u001b[0m\u001b[0;34m(\u001b[0m\u001b[0mfreq\u001b[0m\u001b[0;34m=\u001b[0m\u001b[0mfreq\u001b[0m\u001b[0;34m,\u001b[0m \u001b[0mhow\u001b[0m\u001b[0;34m=\u001b[0m\u001b[0mhow\u001b[0m\u001b[0;34m)\u001b[0m\u001b[0;34m\u001b[0m\u001b[0;34m\u001b[0m\u001b[0m\n",
      "\u001b[0;31mTypeError\u001b[0m: unsupported Type DatetimeIndex"
     ]
    }
   ],
   "source": [
    "x.t"
   ]
  },
  {
   "cell_type": "code",
   "execution_count": 49,
   "id": "8ea6c1e3",
   "metadata": {
    "ExecuteTime": {
     "end_time": "2021-10-03T10:01:25.133589Z",
     "start_time": "2021-10-03T10:01:25.113221Z"
    }
   },
   "outputs": [
    {
     "data": {
      "text/plain": [
       "0     2021-07-10 00:00:00\n",
       "1     2021-07-10 04:00:00\n",
       "2     2021-07-10 08:00:00\n",
       "3     2021-07-10 12:00:00\n",
       "4     2021-07-10 16:00:00\n",
       "              ...        \n",
       "499   2021-10-01 04:00:00\n",
       "500   2021-10-01 08:00:00\n",
       "501   2021-10-01 12:00:00\n",
       "502   2021-10-01 16:00:00\n",
       "503   2021-10-01 20:00:00\n",
       "Name: DATE_TIME, Length: 504, dtype: datetime64[ns]"
      ]
     },
     "execution_count": 49,
     "metadata": {},
     "output_type": "execute_result"
    }
   ],
   "source": [
    "pd.to_datetime(df[msk1]['DATE_TIME'])"
   ]
  },
  {
   "cell_type": "code",
   "execution_count": null,
   "id": "3312fb58",
   "metadata": {},
   "outputs": [],
   "source": []
  },
  {
   "cell_type": "code",
   "execution_count": 30,
   "id": "777e5d89",
   "metadata": {
    "ExecuteTime": {
     "end_time": "2021-10-03T09:26:41.691992Z",
     "start_time": "2021-10-03T09:26:41.562233Z"
    }
   },
   "outputs": [
    {
     "ename": "AttributeError",
     "evalue": "'Series' object has no attribute 'week'",
     "output_type": "error",
     "traceback": [
      "\u001b[0;31m---------------------------------------------------------------------------\u001b[0m",
      "\u001b[0;31mAttributeError\u001b[0m                            Traceback (most recent call last)",
      "\u001b[0;32m<ipython-input-30-fea5a333c799>\u001b[0m in \u001b[0;36m<module>\u001b[0;34m\u001b[0m\n\u001b[1;32m      2\u001b[0m \u001b[0mplt\u001b[0m\u001b[0;34m.\u001b[0m\u001b[0mfigure\u001b[0m\u001b[0;34m(\u001b[0m\u001b[0mfigsize\u001b[0m\u001b[0;34m=\u001b[0m\u001b[0;34m(\u001b[0m\u001b[0;36m20\u001b[0m\u001b[0;34m,\u001b[0m\u001b[0;36m3\u001b[0m\u001b[0;34m)\u001b[0m\u001b[0;34m)\u001b[0m\u001b[0;34m\u001b[0m\u001b[0;34m\u001b[0m\u001b[0m\n\u001b[1;32m      3\u001b[0m \u001b[0mplt\u001b[0m\u001b[0;34m.\u001b[0m\u001b[0mxticks\u001b[0m\u001b[0;34m(\u001b[0m\u001b[0mrotation\u001b[0m \u001b[0;34m=\u001b[0m \u001b[0;36m45\u001b[0m\u001b[0;34m)\u001b[0m\u001b[0;34m\u001b[0m\u001b[0;34m\u001b[0m\u001b[0m\n\u001b[0;32m----> 4\u001b[0;31m \u001b[0mplt\u001b[0m\u001b[0;34m.\u001b[0m\u001b[0mplot\u001b[0m\u001b[0;34m(\u001b[0m\u001b[0mdf\u001b[0m\u001b[0;34m[\u001b[0m\u001b[0mmsk1\u001b[0m\u001b[0;34m]\u001b[0m\u001b[0;34m[\u001b[0m\u001b[0;34m'DATE_TIME'\u001b[0m\u001b[0;34m]\u001b[0m\u001b[0;34m.\u001b[0m\u001b[0mweek\u001b[0m\u001b[0;34m,\u001b[0m\u001b[0mdf\u001b[0m\u001b[0;34m[\u001b[0m\u001b[0mmsk1\u001b[0m\u001b[0;34m]\u001b[0m\u001b[0;34m[\u001b[0m\u001b[0;34m'DIFF_ENTRIES'\u001b[0m\u001b[0;34m]\u001b[0m\u001b[0;34m)\u001b[0m\u001b[0;34m\u001b[0m\u001b[0;34m\u001b[0m\u001b[0m\n\u001b[0m",
      "\u001b[0;32m~/opt/anaconda3/lib/python3.8/site-packages/pandas/core/generic.py\u001b[0m in \u001b[0;36m__getattr__\u001b[0;34m(self, name)\u001b[0m\n\u001b[1;32m   5463\u001b[0m             \u001b[0;32mif\u001b[0m \u001b[0mself\u001b[0m\u001b[0;34m.\u001b[0m\u001b[0m_info_axis\u001b[0m\u001b[0;34m.\u001b[0m\u001b[0m_can_hold_identifiers_and_holds_name\u001b[0m\u001b[0;34m(\u001b[0m\u001b[0mname\u001b[0m\u001b[0;34m)\u001b[0m\u001b[0;34m:\u001b[0m\u001b[0;34m\u001b[0m\u001b[0;34m\u001b[0m\u001b[0m\n\u001b[1;32m   5464\u001b[0m                 \u001b[0;32mreturn\u001b[0m \u001b[0mself\u001b[0m\u001b[0;34m[\u001b[0m\u001b[0mname\u001b[0m\u001b[0;34m]\u001b[0m\u001b[0;34m\u001b[0m\u001b[0;34m\u001b[0m\u001b[0m\n\u001b[0;32m-> 5465\u001b[0;31m             \u001b[0;32mreturn\u001b[0m \u001b[0mobject\u001b[0m\u001b[0;34m.\u001b[0m\u001b[0m__getattribute__\u001b[0m\u001b[0;34m(\u001b[0m\u001b[0mself\u001b[0m\u001b[0;34m,\u001b[0m \u001b[0mname\u001b[0m\u001b[0;34m)\u001b[0m\u001b[0;34m\u001b[0m\u001b[0;34m\u001b[0m\u001b[0m\n\u001b[0m\u001b[1;32m   5466\u001b[0m \u001b[0;34m\u001b[0m\u001b[0m\n\u001b[1;32m   5467\u001b[0m     \u001b[0;32mdef\u001b[0m \u001b[0m__setattr__\u001b[0m\u001b[0;34m(\u001b[0m\u001b[0mself\u001b[0m\u001b[0;34m,\u001b[0m \u001b[0mname\u001b[0m\u001b[0;34m:\u001b[0m \u001b[0mstr\u001b[0m\u001b[0;34m,\u001b[0m \u001b[0mvalue\u001b[0m\u001b[0;34m)\u001b[0m \u001b[0;34m->\u001b[0m \u001b[0;32mNone\u001b[0m\u001b[0;34m:\u001b[0m\u001b[0;34m\u001b[0m\u001b[0;34m\u001b[0m\u001b[0m\n",
      "\u001b[0;31mAttributeError\u001b[0m: 'Series' object has no attribute 'week'"
     ]
    },
    {
     "data": {
      "image/png": "[encoded data removed]",
      "text/plain": [
       "<Figure size 1440x216 with 1 Axes>"
      ]
     },
     "metadata": {
      "needs_background": "light"
     },
     "output_type": "display_data"
    }
   ],
   "source": [
    "# plt.plot(x= 'DATE_TIME', y = 'DIFF_ENTRIES', data=df[msk1])\n",
    "plt.figure(figsize=(20,3))\n",
    "plt.xticks(rotation = 45)\n",
    "plt.plot(df[msk1]['DATE_TIME'],df[msk1]['DIFF_ENTRIES'])"
   ]
  },
  {
   "cell_type": "code",
   "execution_count": null,
   "id": "02831500",
   "metadata": {},
   "outputs": [],
   "source": []
  },
  {
   "cell_type": "code",
   "execution_count": null,
   "id": "5e823491",
   "metadata": {},
   "outputs": [],
   "source": []
  }
 ],
 "metadata": {
  "kernelspec": {
   "display_name": "Python 3.8.8 64-bit ('base': conda)",
   "language": "python",
   "name": "python388jvsc74a57bd011ef33b601587caca72001ca459a3179111f6f034e554293e5e06d6e923ce863"
  },
  "language_info": {
   "codemirror_mode": {
    "name": "ipython",
    "version": 3
   },
   "file_extension": ".py",
   "mimetype": "text/x-python",
   "name": "python",
   "nbconvert_exporter": "python",
   "pygments_lexer": "ipython3",
   "version": "3.8.8"
  },
  "toc": {
   "base_numbering": 1,
   "nav_menu": {},
   "number_sections": true,
   "sideBar": true,
   "skip_h1_title": false,
   "title_cell": "Table of Contents",
   "title_sidebar": "Contents",
   "toc_cell": false,
   "toc_position": {},
   "toc_section_display": true,
   "toc_window_display": false
  }
 },
 "nbformat": 4,
 "nbformat_minor": 5
}
